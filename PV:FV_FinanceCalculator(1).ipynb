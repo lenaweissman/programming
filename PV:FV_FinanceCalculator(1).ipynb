{
 "cells": [
  {
   "cell_type": "code",
   "execution_count": 4,
   "id": "181cb48c-c30b-4d9c-a055-42a940cfd7ec",
   "metadata": {},
   "outputs": [
    {
     "name": "stdin",
     "output_type": "stream",
     "text": [
      "Would you like to calculate present value or future value? (enter PV or FV):  PV\n",
      "What is the discount rate? (enter as a decimal e.g., 0.03 for 3%):  0.1\n",
      "How many discrete forecast periods? (enter 0 if none):  2\n"
     ]
    },
    {
     "name": "stdout",
     "output_type": "stream",
     "text": [
      "\n",
      "Enter cash flows for each discrete period:\n"
     ]
    },
    {
     "name": "stdin",
     "output_type": "stream",
     "text": [
      "  Payment for period 1:  1000\n",
      "  Length of this period (in years):  1\n",
      "  Payment for period 2:  1000\n",
      "  Length of this period (in years):  1\n",
      "\n",
      "How many distinct “growth” phases (enter 0 if none):  3\n"
     ]
    },
    {
     "name": "stdout",
     "output_type": "stream",
     "text": [
      "\n",
      "Phase 1\n"
     ]
    },
    {
     "name": "stdin",
     "output_type": "stream",
     "text": [
      "  Starting cash flow for this phase?:  1100\n",
      "  Growth rate? (as decimal, e.g., 0.03):  0.05\n",
      "  Length of this phase (years)?:  3\n"
     ]
    },
    {
     "name": "stdout",
     "output_type": "stream",
     "text": [
      "\n",
      "Phase 2\n"
     ]
    },
    {
     "name": "stdin",
     "output_type": "stream",
     "text": [
      "  Starting cash flow for this phase?:  1100\n",
      "  Growth rate? (as decimal, e.g., 0.03):  0.02\n",
      "  Length of this phase (years)?:  10\n"
     ]
    },
    {
     "name": "stdout",
     "output_type": "stream",
     "text": [
      "\n",
      "Phase 3\n"
     ]
    },
    {
     "name": "stdin",
     "output_type": "stream",
     "text": [
      "  Starting cash flow for this phase?:  1500\n",
      "  Growth rate? (as decimal, e.g., 0.03):  0.02\n",
      "  Is it an annuity or perpetuity? (enter annuity or perpetuity):  perpetuity\n"
     ]
    },
    {
     "name": "stdout",
     "output_type": "stream",
     "text": [
      "\n",
      "> Calculation Breakdown:\n",
      "  PV Discrete Forecast: $1,735.54\n",
      "  PV Phase 1 (Annuity): $2,368.35\n",
      "  PV Phase 2 (Annuity): $4,525.18\n",
      "  PV Phase 3 (Perpetuity): $4,488.60\n",
      "  TOTAL PV: $13,117.66\n"
     ]
    }
   ],
   "source": [
    "##This code creates an elementary-level present value and future value “calculator.” \n",
    "##Calculates the present value (PV) and future value (FV) for\n",
    "##discrete forecast periods and multiple growth phases (annuity/growing annuity/perpetuity)\n",
    "##AI was leveraged in the creation of this code\n",
    "##Lena Weissman\n",
    "\n",
    "#defines all calculation functions \n",
    "def pv_annuity(C, r, t):\n",
    "    return C * (1 - (1 + r) ** -t) / r\n",
    "\n",
    "def pv_perpetuity(C, r):\n",
    "    return C / r\n",
    "\n",
    "def fv_annuity(C, r, t):\n",
    "    return C * (((1 + r) ** t - 1) / r)\n",
    "\n",
    "def pv_growing_annuity(C, r, g, t):\n",
    "    return C * (1 - ((1 + g) / (1 + r)) ** t) / (r - g)\n",
    "\n",
    "def pv_growing_perpetuity(C, r, g):\n",
    "    return C / (r - g)\n",
    "\n",
    "def fv_growing_annuity(C, r, g, t):\n",
    "    if r == g: # Special case when r == g       \n",
    "        return C * t * (1 + r) ** (t - 1)\n",
    "    return C * (((1 + r) ** t - (1 + g) ** t) / (r - g))\n",
    "\n",
    "#Asks user for all of their inputs\n",
    "calculation_type = input(\n",
    "    'Would you like to calculate present value or future value? (enter PV or FV): '\n",
    ").strip().upper()\n",
    "discount_rate = float(input(\n",
    "    'What is the discount rate? (enter as a decimal e.g., 0.03 for 3%): '\n",
    "))\n",
    "\n",
    "#Allows for distinct payment amounts for each forecast period\n",
    "discrete_forecast = int(input(\n",
    "    'How many discrete forecast periods? (enter 0 if none): '\n",
    "))\n",
    "discrete_periods = []\n",
    "if discrete_forecast > 0:\n",
    "    print(\"\\nEnter cash flows for each discrete period:\")\n",
    "    for i in range(discrete_forecast):\n",
    "        payment = float(input(f\"  Payment for period {i+1}: \"))\n",
    "        length = int(input(f\"  Length of this period (in years): \"))\n",
    "        discrete_periods.append({\n",
    "            'payment': payment,\n",
    "            'length': length\n",
    "        })\n",
    "\n",
    "#Asks user input for growth phases\n",
    "growth_phases = int(input('\\nHow many distinct “growth” phases (enter 0 if none): '))\n",
    "phases = []  # list to store each growth phase\n",
    "\n",
    "for i in range(growth_phases):\n",
    "    print(f\"\\nPhase {i+1}\")\n",
    "    phase = {}\n",
    "    phase['payment'] = float(input('  Starting cash flow for this phase?: '))\n",
    "    phase['rate'] = float(input('  Growth rate? (as decimal, e.g., 0.03): '))\n",
    "\n",
    "    if i == growth_phases - 1:\n",
    "        #If it is the last phase ask if it's annuity or perpetuity\n",
    "        while True:\n",
    "            typ = input(\n",
    "                '  Is it an annuity or perpetuity? (enter annuity or perpetuity): '\n",
    "            ).strip().lower()\n",
    "            if typ in ['annuity', 'perpetuity']:\n",
    "                phase['type'] = typ\n",
    "                break\n",
    "            else:\n",
    "                print('Please enter only \"annuity\" or \"perpetuity\".')\n",
    "\n",
    "        if phase['type'] == 'annuity':\n",
    "            phase['length'] = int(input('  Length of this phase (years)?: '))\n",
    "        else:\n",
    "            phase['length'] = 0  #Use 0 for perpetuity\n",
    "    else:\n",
    "        phase['type'] = 'annuity'\n",
    "        phase['length'] = int(input('  Length of this phase (years)?: '))\n",
    "\n",
    "    phases.append(phase)\n",
    "\n",
    "total_pv = 0\n",
    "total_fv = 0\n",
    "breakdown = []\n",
    "\n",
    "##PV\n",
    "if calculation_type == 'PV':\n",
    "    #PV of discrete forecast periods\n",
    "    pv_df = 0\n",
    "    start_time = 1\n",
    "    for i, period in enumerate(discrete_periods): #Discount each discrete payment back to present\n",
    "        n = period['length']\n",
    "        disk_pv = period['payment'] / ((1 + discount_rate) ** start_time)\n",
    "        pv_df += disk_pv\n",
    "        start_time += n \n",
    "\n",
    "    if discrete_forecast > 0:\n",
    "        breakdown.append(f\"PV Discrete Forecast: ${pv_df:,.2f}\")\n",
    "    total_pv += pv_df\n",
    "\n",
    "    #PV of each phase discounted back to present\n",
    "    start_time = sum([p['length'] for p in discrete_periods])\n",
    "    for idx, phase in enumerate(phases):\n",
    "        c, g, N, typ = phase['payment'], phase['rate'], phase['length'], phase['type']\n",
    "        if typ == 'annuity':\n",
    "            if g == 0:\n",
    "                pv = pv_annuity(c, discount_rate, N)\n",
    "            else:\n",
    "                pv = pv_growing_annuity(c, discount_rate, g, N)\n",
    "            label = f\"PV Phase {idx+1} (Annuity)\"\n",
    "        else:\n",
    "            if g == 0:\n",
    "                pv = pv_perpetuity(c, discount_rate)\n",
    "            else:\n",
    "                pv = pv_growing_perpetuity(c, discount_rate, g)\n",
    "            label = f\"PV Phase {idx+1} (Perpetuity)\"\n",
    "        pv_deferred = pv / ((1 + discount_rate) ** start_time) #If it does not start at time zero\n",
    "        breakdown.append(f\"{label}: ${pv_deferred:,.2f}\")\n",
    "        total_pv += pv_deferred\n",
    "        start_time += N\n",
    "\n",
    "    breakdown.append(f\"TOTAL PV: ${total_pv:,.2f}\")\n",
    "\n",
    "##FV\n",
    "elif calculation_type == 'FV':\n",
    "    # Calculate full timeline:\n",
    "    final_time = sum([p['length'] for p in discrete_periods]) + sum([phase['length'] for phase in phases])\n",
    "\n",
    "    #FV of discrete forecast periods each compounded to the end\n",
    "    fv_df = 0\n",
    "    payment_year = 0\n",
    "    for period in discrete_periods:\n",
    "        payment = period['payment']\n",
    "        length = period['length']\n",
    "        for i in range(length):\n",
    "            payment_year += 1\n",
    "            periods_to_compound = final_time - payment_year\n",
    "            fv = payment * ((1 + discount_rate) ** periods_to_compound)\n",
    "            fv_df += fv\n",
    "    if discrete_forecast > 0:\n",
    "        breakdown.append(f\"FV Discrete Forecast: ${fv_df:,.2f}\")\n",
    "    total_fv += fv_df\n",
    "\n",
    "    #FV of each phase\n",
    "    phase_start_time = payment_year\n",
    "    for idx, phase in enumerate(phases):\n",
    "        c, g, N, typ = phase['payment'], phase['rate'], phase['length'], phase['type']\n",
    "        phase_end_time = phase_start_time + N\n",
    "        if typ == 'annuity':\n",
    "            fv = fv_annuity(c, discount_rate, N) if g == 0 else fv_growing_annuity(c, discount_rate, g, N)\n",
    "            #Compound from phase end to final_time\n",
    "            periods_to_compound = final_time - phase_end_time\n",
    "            fv_deferred = fv * ((1 + discount_rate) ** periods_to_compound)\n",
    "            label = f\"FV Phase {idx+1} (Annuity{' (Growing)' if g != 0 else ''})\"\n",
    "            breakdown.append(f\"{label}: ${fv_deferred:,.2f}\")\n",
    "            total_fv += fv_deferred\n",
    "            phase_start_time += N\n",
    "        else:\n",
    "            label = f\"FV Phase {idx+1} (Perpetuity)\"\n",
    "            breakdown.append(f\"{label}: N/A – FV of perpetuity is not defined.\")\n",
    "\n",
    "    breakdown.append(f\"TOTAL FV: ${total_fv:,.2f}\")\n",
    "\n",
    "#Print final breakdown\n",
    "print(\"\\n> Calculation Breakdown:\")\n",
    "for line in breakdown:\n",
    "    print(\"  \" + line)"
   ]
  },
  {
   "cell_type": "code",
   "execution_count": null,
   "id": "7049b8d8-8e2d-4882-9483-4aa0541927b0",
   "metadata": {},
   "outputs": [],
   "source": []
  }
 ],
 "metadata": {
  "kernelspec": {
   "display_name": "Python [conda env:base] *",
   "language": "python",
   "name": "conda-base-py"
  },
  "language_info": {
   "codemirror_mode": {
    "name": "ipython",
    "version": 3
   },
   "file_extension": ".py",
   "mimetype": "text/x-python",
   "name": "python",
   "nbconvert_exporter": "python",
   "pygments_lexer": "ipython3",
   "version": "3.13.5"
  }
 },
 "nbformat": 4,
 "nbformat_minor": 5
}
